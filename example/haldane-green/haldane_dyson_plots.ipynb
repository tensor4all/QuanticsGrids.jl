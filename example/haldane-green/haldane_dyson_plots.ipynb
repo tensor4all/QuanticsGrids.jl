{
 "cells": [
  {
   "cell_type": "code",
   "execution_count": 1,
   "id": "2ad06aaf",
   "metadata": {},
   "outputs": [
    {
     "name": "stdout",
     "output_type": "stream",
     "text": [
      "Did not find xfac. QTT functions will not be available.PyError (PyImport_ImportModule\n",
      "\n",
      "The Python package xfacpy could not be imported by pyimport. Usually this means\n",
      "that you did not install xfacpy in the Python version being used by PyCall.\n",
      "\n",
      "PyCall is currently configured to use the Python version at:\n",
      "\n",
      "/Users/Ritter.Marc/.pyenv/versions/3.8.15/bin/python\n",
      "\n",
      "and you should use whatever mechanism you usually use (apt-get, pip, conda,\n",
      "etcetera) to install the Python package containing the xfacpy module.\n",
      "\n",
      "One alternative is to re-configure PyCall to use a different Python\n",
      "version on your system: set ENV[\"PYTHON\"] to the path/name of the python\n",
      "executable you want to use, run Pkg.build(\"PyCall\"), and re-launch Julia.\n",
      "\n",
      "Another alternative is to configure PyCall to use a Julia-specific Python\n",
      "distribution via the Conda.jl package (which installs a private Anaconda\n",
      "Python distribution), which has the advantage that packages can be installed\n",
      "and kept up-to-date via Julia.  As explained in the PyCall documentation,\n",
      "set ENV[\"PYTHON\"]=\"\", run Pkg.build(\"PyCall\"), and re-launch Julia. Then,\n",
      "To install the xfacpy module, you can use `pyimport_conda(\"xfacpy\", PKG)`,\n",
      "where PKG is the Anaconda package that contains the module xfacpy,\n",
      "or alternatively you can use the Conda package directly (via\n",
      "`using Conda` followed by `Conda.add` etcetera).\n",
      "\n",
      ") <class 'ModuleNotFoundError'>\n",
      "ModuleNotFoundError(\"No module named 'xfacpy'\")\n"
     ]
    },
    {
     "ename": "LoadError",
     "evalue": "ArgumentError: Package PyPlots not found in current path:\n- Run `import Pkg; Pkg.add(\"PyPlots\")` to install the PyPlots package.\n",
     "output_type": "error",
     "traceback": [
      "ArgumentError: Package PyPlots not found in current path:\n- Run `import Pkg; Pkg.add(\"PyPlots\")` to install the PyPlots package.\n",
      "",
      "Stacktrace:",
      " [1] require(into::Module, mod::Symbol)",
      "   @ Base ./loading.jl:967",
      " [2] eval",
      "   @ ./boot.jl:373 [inlined]",
      " [3] include_string(mapexpr::typeof(REPL.softscope), mod::Module, code::String, filename::String)",
      "   @ Base ./loading.jl:1196"
     ]
    }
   ],
   "source": [
    "import TensorCrossInterpolation as TCI\n",
    "using QuanticsGrids\n",
    "using PyPlots\n",
    "using JLD2\n",
    "\n",
    "rcParams = PyPlot.PyDict(PyPlot.matplotlib.\"rcParams\")\n",
    "rcParams[\"font.size\"] = 10\n",
    "rcParams[\"text.usetex\"] = true\n",
    "rcParams[\"font.family\"] = \"serif\"\n",
    "rcParams[\"text.latex.preamble\"] = [raw\"\\usepackage{amsmath}\"]\n",
    "rcParams[\"font.serif\"] = [\"Computer Modern Roman\"]"
   ]
  },
  {
   "cell_type": "code",
   "execution_count": null,
   "id": "729ad1ce",
   "metadata": {},
   "outputs": [],
   "source": []
  }
 ],
 "metadata": {
  "kernelspec": {
   "display_name": "Julia 1.7.2",
   "language": "julia",
   "name": "julia-1.7"
  },
  "language_info": {
   "file_extension": ".jl",
   "mimetype": "application/julia",
   "name": "julia",
   "version": "1.7.2"
  }
 },
 "nbformat": 4,
 "nbformat_minor": 5
}

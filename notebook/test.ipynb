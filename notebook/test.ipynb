{
 "cells": [
  {
   "cell_type": "code",
   "execution_count": null,
   "metadata": {},
   "outputs": [],
   "source": [
    "using Revise\n",
    "using QuanticsGrids\n",
    "using Test\n",
    "using StaticArrays\n",
    "using BenchmarkTools"
   ]
  },
  {
   "cell_type": "code",
   "execution_count": null,
   "metadata": {},
   "outputs": [],
   "source": [
    "B = 4\n",
    "d = 1\n",
    "\n",
    "x =  [1, 2, 1, 2]\n",
    "@benchmark QuanticsGrids.quantics_to_index_fused($x; base=B, dims=$(Val(d)))"
   ]
  },
  {
   "cell_type": "code",
   "execution_count": null,
   "metadata": {},
   "outputs": [],
   "source": [
    "function quantics_to_index_fused(\n",
    "    digitlist::AbstractVector{<:Integer};\n",
    "    base::Integer=2, dims::Val{d}=Val(1)\n",
    ")::NTuple{d,Int} where {d}\n",
    "    R = length(digitlist)\n",
    "    result = ones(MVector{d,Int})\n",
    "\n",
    "    B = base\n",
    "    maximum(digitlist) <= B^d || error(\"maximum(digitlist) <= B^d\")\n",
    "    minimum(digitlist) >= 0 || error(\"minimum(digitlist) >= 0\")\n",
    "\n",
    "    for n in 1:R # from the least to most significant digit\n",
    "        scale = B^(n-1) # length scale\n",
    "        tmp = digitlist[R-n+1] - 1\n",
    "        for i in 1:d # in the order of 1st dim, 2nd dim, ...\n",
    "            div_, rem_ = divrem(tmp, B)\n",
    "            result[i] += rem_ * scale\n",
    "            tmp = div_\n",
    "        end\n",
    "    end\n",
    "\n",
    "    return tuple(result...)\n",
    "end\n"
   ]
  },
  {
   "cell_type": "code",
   "execution_count": null,
   "metadata": {},
   "outputs": [],
   "source": [
    "@benchmark quantics_to_index_fused(x; dims=Val(d))"
   ]
  },
  {
   "cell_type": "code",
   "execution_count": null,
   "metadata": {},
   "outputs": [],
   "source": [
    "@show quantics_to_index_fused(x)\n",
    "@show quantics_to_index_fused(x; dims=Val(d))"
   ]
  },
  {
   "cell_type": "code",
   "execution_count": null,
   "metadata": {},
   "outputs": [],
   "source": [
    "@benchmark quantics_to_index_fused($x)"
   ]
  },
  {
   "cell_type": "code",
   "execution_count": null,
   "metadata": {},
   "outputs": [],
   "source": [
    "#f(x) = sin(x * π)\n",
    "f(x) = rand()\n",
    "R = 20\n",
    "\n",
    "grid = QuanticsGrids.InherentDiscreteGrid{1}(R)\n",
    "fquantics = QuanticsGrids.quantics_function_fused(Float64, grid, f)"
   ]
  },
  {
   "cell_type": "code",
   "execution_count": null,
   "metadata": {},
   "outputs": [],
   "source": [
    "tci2, ranks, errors = crossinterpolate2(\n",
    "    Float64,\n",
    "    fquantics,\n",
    "    fill(2, R),\n",
    "    [ones(Int, R)];\n",
    "    tolerance=1e-100,\n",
    "    pivottolerance=1e-100,\n",
    "    maxiter=10,\n",
    "    maxbonddim=100\n",
    ")"
   ]
  },
  {
   "cell_type": "code",
   "execution_count": null,
   "metadata": {},
   "outputs": [],
   "source": [
    "QuanticsGrids.UnfoldingSchemes.interleaved"
   ]
  },
  {
   "cell_type": "code",
   "execution_count": null,
   "metadata": {},
   "outputs": [],
   "source": [
    "B = 3\n",
    "\n",
    "x = [3, 2, 1]\n",
    "y = [1, 1, 1]\n",
    "xy = QuanticsGrids.fuse_dimensions(Val(B), x, y)"
   ]
  },
  {
   "cell_type": "code",
   "execution_count": null,
   "metadata": {},
   "outputs": [],
   "source": [
    "QuanticsGrids.unfuse_dimensions(Val(B), xy, 2)"
   ]
  },
  {
   "cell_type": "code",
   "execution_count": null,
   "metadata": {},
   "outputs": [],
   "source": [
    "QuanticsGrids.digit_at_index(Val(B), 3, 2; numdigits=3)"
   ]
  },
  {
   "cell_type": "code",
   "execution_count": null,
   "metadata": {},
   "outputs": [],
   "source": [
    "R = 4\n",
    "d = 3\n",
    "B = 2\n",
    "\n",
    "# Grid on [1, 2, ..., d^R]\n",
    "grid = QuanticsGrids.InherentDiscreteGrid{d,B}(R)"
   ]
  },
  {
   "cell_type": "code",
   "execution_count": null,
   "metadata": {},
   "outputs": [],
   "source": [
    "x = [1, 1, 1, 4]\n",
    "@benchmark QuanticsGrids.quantics_to_index_fused(Val(B), Val(d), $x)"
   ]
  },
  {
   "cell_type": "code",
   "execution_count": null,
   "metadata": {},
   "outputs": [],
   "source": [
    "d = 1\n",
    "R = 2 # number of bits\n",
    "B = 3\n",
    "\n",
    "index_reconst = Int[]\n",
    "for index in 1:B^R\n",
    "    bitlist_ = QuanticsGrids.index_to_quantics(Val(B), index; numdigits=R)\n",
    "    @show index\n",
    "    @show bitlist_\n",
    "    @show @allocated quantics_to_index_fused(Val(B), Val(d), bitlist_)\n",
    "    push!(index_reconst, only(quantics_to_index_fused(Val(B), Val(d), bitlist_)))\n",
    "end\n",
    "\n",
    "collect(1:B^R) == index_reconst\n"
   ]
  },
  {
   "cell_type": "code",
   "execution_count": null,
   "metadata": {},
   "outputs": [],
   "source": [
    "base = 3\n",
    "dim = 2\n",
    "@show QuanticsGrids.quantics_to_index_fused(Val(base), Val(dim), [1, 1]) == (1, 1)\n",
    "@show QuanticsGrids.quantics_to_index_fused(Val(base), Val(dim), [1, 2]) == (2, 1)\n",
    "@show QuanticsGrids.quantics_to_index_fused(Val(base), Val(dim), [1, 3]) == (3, 1)\n",
    "@show QuanticsGrids.quantics_to_index_fused(Val(base), Val(dim), [1, 4]) == (1, 2)\n",
    "@show QuanticsGrids.quantics_to_index_fused(Val(base), Val(dim), [1, 5]) == (2, 2)\n",
    "@show QuanticsGrids.quantics_to_index_fused(Val(base), Val(dim), [1, 6]) == (3, 2)\n",
    "@show QuanticsGrids.quantics_to_index_fused(Val(base), Val(dim), [1, 7]) == (1, 3)\n",
    "@show QuanticsGrids.quantics_to_index_fused(Val(base), Val(dim), [1, 8]) == (2, 3)\n",
    "@show QuanticsGrids.quantics_to_index_fused(Val(base), Val(dim), [1, 9]) == (3, 3)\n",
    "@show QuanticsGrids.quantics_to_index_fused(Val(base), Val(dim), [2, 1]) == (4, 1)"
   ]
  },
  {
   "cell_type": "code",
   "execution_count": null,
   "metadata": {},
   "outputs": [],
   "source": [
    "base = 2\n",
    "dim = 2\n",
    "R = 2\n",
    "\n",
    "for j in 1:base^R, i in 1:base^R\n",
    "    index = (i, j)\n",
    "    digitlist = Vector{Int}(undef, R)\n",
    "    QuanticsGrids.index_to_quantics_fused!(Val(base), digitlist, index)\n",
    "    index_reconst = QuanticsGrids.quantics_to_index_fused(Val(base), Val(dim), digitlist)\n",
    "    @test index == index_reconst\n",
    "end\n",
    "#@test QuanticsGrids.quantics_to_index_fused(Val(base), Val(dim), [1, 1]) == (1, 1)\n",
    "#@test QuanticsGrids.quantics_to_index_fused(Val(base), Val(dim), [1, 2]) == (2, 1)\n",
    "#@test QuanticsGrids.quantics_to_index_fused(Val(base), Val(dim), [1, 3]) == (3, 1)\n",
    "#@test QuanticsGrids.quantics_to_index_fused(Val(base), Val(dim), [1, 4]) == (1, 2)"
   ]
  },
  {
   "cell_type": "code",
   "execution_count": null,
   "metadata": {},
   "outputs": [],
   "source": [
    "# index is one-based. The result is also one-based.\n",
    "# position must be one-based: 1 is the least (most right) significant digit.\n",
    "function digit_at_index(::Val{base}, index, position)\n",
    "    return mod((index-1), base^position) ÷ base^(position-1) + 1\n",
    "end\n",
    "\n",
    "i = 3\n",
    "@show digit_at_index(Val(2), i, 1)\n",
    "@show digit_at_index(Val(2), i, 2)\n",
    "@show digit_at_index(Val(2), i, 3)\n",
    "@show digit_at_index(Val(2), i, 4)"
   ]
  },
  {
   "cell_type": "code",
   "execution_count": null,
   "metadata": {},
   "outputs": [],
   "source": [
    "x = ones(Int, R)\n",
    "@benchmark qf($x)"
   ]
  },
  {
   "cell_type": "code",
   "execution_count": null,
   "metadata": {},
   "outputs": [],
   "source": [
    "#@benchmark QuanticsGrids.quantics_to_origcoord_fused(grid, $x)\n",
    "@benchmark QuanticsGrids.quantics_to_index_fused(Val(B), Val(d), $x)"
   ]
  },
  {
   "cell_type": "code",
   "execution_count": null,
   "metadata": {},
   "outputs": [],
   "source": [
    "qf2 = QuanticsGrids.quantics_function_fused(Float64, grid, f)\n",
    "\n",
    "x = ones(Int, R)\n",
    "@benchmark qf2($x)"
   ]
  },
  {
   "cell_type": "code",
   "execution_count": null,
   "metadata": {},
   "outputs": [],
   "source": [
    "function testf(x, y, z)\n",
    "    res = zeros(MVector{1, Float64})\n",
    "    res .= x .+ y .+ z\n",
    "    return res\n",
    "end\n",
    "\n",
    "a = (1,)\n",
    "b = (1,)\n",
    "c = (1,)\n",
    "\n",
    "@benchmark testf($a, $b, $c)"
   ]
  },
  {
   "cell_type": "code",
   "execution_count": null,
   "metadata": {},
   "outputs": [],
   "source": [
    "B = 3\n",
    "R = 4\n",
    "for index in 1:B^R\n",
    "    bitlist = [mod(index, B^(R-i+1)) ÷ B^(R-i) + 1 for i in 1:R]\n",
    "    @show bitlist\n",
    "end"
   ]
  },
  {
   "cell_type": "code",
   "execution_count": null,
   "metadata": {},
   "outputs": [],
   "source": [
    "x = ones(Int, 10)\n",
    "y = ones(Int, 10)\n",
    "z = ones(Int, 20)\n",
    "xy = [x, y]\n",
    "@benchmark QuanticsGrids.deinterleave_dimensions!(xy, z)"
   ]
  },
  {
   "cell_type": "code",
   "execution_count": null,
   "metadata": {},
   "outputs": [],
   "source": [
    "n = 2\n",
    "np = 2^n\n",
    "for i1 in [1,2], i2 in 1:2\n",
    "    q1 = index_to_quantics(i1, n)\n",
    "    q2 = index_to_quantics(i2, n)\n",
    "    @test fuse_dimensions(q1, q2) == index_to_quantics_fused([i1, i2], n)\n",
    "    @test interleave_dimensions(q1, q2) == index_to_quantics_interleaved([i1, i2], n)\n",
    "    @show i1\n",
    "    @show q1\n",
    "    @show i2\n",
    "    @show q2\n",
    "    @show fuse_dimensions(q1, q2)\n",
    "end"
   ]
  },
  {
   "cell_type": "code",
   "execution_count": null,
   "metadata": {},
   "outputs": [],
   "source": [
    "n = 2\n",
    "i1, i2 = 1, 1\n",
    "q1 = index_to_quantics(i1, n)\n",
    "q2 = index_to_quantics(i2, n)\n",
    "@benchmark fuse_dimensions($q1, $q2)"
   ]
  },
  {
   "cell_type": "code",
   "execution_count": null,
   "metadata": {},
   "outputs": [],
   "source": [
    "result = ones(Int, n)\n",
    "@benchmark QuanticsGrids.fuse_dimensions!($result, $q1, $q2)"
   ]
  },
  {
   "cell_type": "code",
   "execution_count": null,
   "metadata": {},
   "outputs": [],
   "source": [
    "n = 10\n",
    "i1, i2 = 1, 1\n",
    "q1 = index_to_quantics(i1, n)\n",
    "q2 = index_to_quantics(i2, n)\n",
    "q12 = fuse_dimensions(q1, q2)"
   ]
  },
  {
   "cell_type": "code",
   "execution_count": null,
   "metadata": {},
   "outputs": [],
   "source": [
    "@benchmark split_dimensions(Val(2), q12, 2)"
   ]
  },
  {
   "cell_type": "code",
   "execution_count": null,
   "metadata": {},
   "outputs": [],
   "source": [
    "@test split_dimensions([1, 1, 1, 1], 1) == [[1, 1, 1, 1]]\n",
    "@test split_dimensions([1, 1, 1, 1], 3) == [[1, 1, 1, 1] for i in 1:3]\n",
    "@test split_dimensions([2, 2, 2, 2], 3) == [[2, 2, 2, 2], [1, 1, 1, 1], [1, 1, 1, 1]]\n",
    "@test split_dimensions([3, 3, 3, 3], 3) == [[1, 1, 1, 1], [2, 2, 2, 2], [1, 1, 1, 1]]\n",
    "@test split_dimensions([5, 5, 5, 5], 3) == [[1, 1, 1, 1], [1, 1, 1, 1], [2, 2, 2, 2]]\n",
    "@test split_dimensions([1, 2, 4, 8], 3) == [[1, 2, 2, 2], [1, 1, 2, 2], [1, 1, 1, 2]]"
   ]
  },
  {
   "cell_type": "code",
   "execution_count": null,
   "metadata": {},
   "outputs": [],
   "source": [
    "result = split_dimensions([1, 1, 1, 1], 3)\n",
    "@show result\n",
    "bitlist = [1, 1, 1, 1]\n",
    "@benchmark QuanticsGrids.split_dimensions!(Val(2), result, bitlist)"
   ]
  },
  {
   "cell_type": "code",
   "execution_count": null,
   "metadata": {},
   "outputs": [],
   "source": [
    "result"
   ]
  },
  {
   "cell_type": "code",
   "execution_count": null,
   "metadata": {},
   "outputs": [],
   "source": [
    "function test(x; base::Val{B}=Val(2)) where B\n",
    "    return mod(x, B)\n",
    "end\n",
    "\n",
    "function test3(x)\n",
    "    return mod(x, 3)\n",
    "end"
   ]
  },
  {
   "cell_type": "code",
   "execution_count": null,
   "metadata": {},
   "outputs": [],
   "source": [
    "@benchmark test(1)"
   ]
  },
  {
   "cell_type": "code",
   "execution_count": null,
   "metadata": {},
   "outputs": [],
   "source": [
    "@code_llvm test(4, base=Val(3))"
   ]
  },
  {
   "cell_type": "code",
   "execution_count": null,
   "metadata": {},
   "outputs": [],
   "source": [
    "@code_llvm test3(4)"
   ]
  }
 ],
 "metadata": {
  "kernelspec": {
   "display_name": "Julia 1.9.4",
   "language": "julia",
   "name": "julia-1.9"
  },
  "language_info": {
   "file_extension": ".jl",
   "mimetype": "application/julia",
   "name": "julia",
   "version": "1.9.4"
  }
 },
 "nbformat": 4,
 "nbformat_minor": 2
}
